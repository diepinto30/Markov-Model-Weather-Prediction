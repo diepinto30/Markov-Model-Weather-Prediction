{
  "nbformat": 4,
  "nbformat_minor": 0,
  "metadata": {
    "colab": {
      "name": "-Markov_Models_Weather_Prediction.ipynb",
      "provenance": [],
      "collapsed_sections": []
    },
    "kernelspec": {
      "name": "python3",
      "display_name": "Python 3"
    }
  },
  "cells": [
    {
      "cell_type": "markdown",
      "metadata": {
        "id": "kAhe6gs_zOLx",
        "colab_type": "text"
      },
      "source": [
        "# Markov models\n",
        "\n",
        "The below code defines a simple Markov chain class. "
      ]
    },
    {
      "cell_type": "code",
      "metadata": {
        "id": "ulRVzwf8y7Or",
        "colab_type": "code",
        "colab": {}
      },
      "source": [
        "import numpy as np\n",
        " \n",
        "class MarkovChain(object):\n",
        "    def __init__(self, transition_prob):\n",
        "        \"\"\"\n",
        "        Initialize the MarkovChain instance.\n",
        " \n",
        "        Parameters\n",
        "        ----------\n",
        "        transition_prob: dict\n",
        "            A dict object representing the transition \n",
        "            probabilities in Markov Chain. \n",
        "            Should be of the form: \n",
        "                {'state1': {'state1': 0.1, 'state2': 0.4}, \n",
        "                 'state2': {...}}\n",
        "        \"\"\"\n",
        "        self.transition_prob = transition_prob\n",
        "        self.states = list(transition_prob.keys())\n",
        " \n",
        "    def next_state(self, current_state):\n",
        "        \"\"\"\n",
        "        Returns the state of the random variable at the next time \n",
        "        instance.\n",
        " \n",
        "        Parameters\n",
        "        ----------\n",
        "        current_state: str\n",
        "            The current state of the system.\n",
        "        \"\"\"\n",
        "        return np.random.choice(\n",
        "            self.states, \n",
        "            p = [self.transition_prob[current_state][next_state] \n",
        "               for next_state in self.states]\n",
        "        )\n",
        " \n",
        "    def generate_states(self, current_state, no=10):\n",
        "        \"\"\"\n",
        "        Generates the next states of the system.\n",
        " \n",
        "        Parameters\n",
        "        ----------\n",
        "        current_state: str\n",
        "            The state of the current random variable.\n",
        " \n",
        "        no: int\n",
        "            The number of future states to generate.\n",
        "        \"\"\"\n",
        "        future_states = []\n",
        "        for i in range(no):\n",
        "            next_state = self.next_state(current_state)\n",
        "            future_states.append(next_state)\n",
        "            current_state = next_state\n",
        "        return future_states\n"
      ],
      "execution_count": 0,
      "outputs": []
    },
    {
      "cell_type": "markdown",
      "metadata": {
        "id": "Jveryfj9zy5a",
        "colab_type": "text"
      },
      "source": [
        "Now, we define a weather Markov chain given a transition matrix, which is in the form of a dictionary (see the state space graph below). \n",
        "\n",
        "![Weather state space graph](https://miro.medium.com/max/1337/1*udOn3pR6SqrKU37KujfdPg.png)"
      ]
    },
    {
      "cell_type": "code",
      "metadata": {
        "id": "O8Aubbaaz2I_",
        "colab_type": "code",
        "outputId": "a6505187-2f74-43f9-8750-6d9dcbc304b0",
        "colab": {
          "base_uri": "https://localhost:8080/",
          "height": 34
        }
      },
      "source": [
        "transition_prob = {'Sunny': {'Sunny': 0.8, 'Rainy': 0.19, \n",
        " 'Snowy': 0.01},\n",
        " 'Rainy': {'Sunny': 0.2, 'Rainy': 0.7,\n",
        " 'Snowy': 0.1},\n",
        " 'Snowy': {'Sunny': 0.1, 'Rainy': 0.2,\n",
        " 'Snowy': 0.7}}\n",
        "\n",
        "print(transition_prob.keys())"
      ],
      "execution_count": 0,
      "outputs": [
        {
          "output_type": "stream",
          "text": [
            "dict_keys(['Sunny', 'Rainy', 'Snowy'])\n"
          ],
          "name": "stdout"
        }
      ]
    },
    {
      "cell_type": "markdown",
      "metadata": {
        "id": "AS_5P9Mk19lM",
        "colab_type": "text"
      },
      "source": [
        "\n",
        "We instantiate the Markov chain. \n",
        "\n",
        "\n"
      ]
    },
    {
      "cell_type": "code",
      "metadata": {
        "id": "bVQ3KjsH1-D0",
        "colab_type": "code",
        "colab": {}
      },
      "source": [
        "weather_chain = MarkovChain(transition_prob = transition_prob)"
      ],
      "execution_count": 0,
      "outputs": []
    },
    {
      "cell_type": "markdown",
      "metadata": {
        "id": "5hz6-qID0o8Y",
        "colab_type": "text"
      },
      "source": [
        "We can then predict the next state as follows. "
      ]
    },
    {
      "cell_type": "code",
      "metadata": {
        "id": "6yM7o_J_0xFa",
        "colab_type": "code",
        "outputId": "a1e80490-a7b0-47fc-ff81-8cc4722a9e78",
        "colab": {
          "base_uri": "https://localhost:8080/",
          "height": 34
        }
      },
      "source": [
        "weather_chain.next_state(current_state = 'Sunny')"
      ],
      "execution_count": 0,
      "outputs": [
        {
          "output_type": "execute_result",
          "data": {
            "text/plain": [
              "'Sunny'"
            ]
          },
          "metadata": {
            "tags": []
          },
          "execution_count": 7
        }
      ]
    },
    {
      "cell_type": "markdown",
      "metadata": {
        "id": "jwjrRp_a1Dt2",
        "colab_type": "text"
      },
      "source": [
        "We will predict the next 10 states. "
      ]
    },
    {
      "cell_type": "code",
      "metadata": {
        "id": "h_HOLtrX09-8",
        "colab_type": "code",
        "outputId": "f317ee36-c03a-43fb-e546-dbaa4ef67aa9",
        "colab": {
          "base_uri": "https://localhost:8080/",
          "height": 190
        }
      },
      "source": [
        "weather_chain.generate_states(current_state = 'Snowy', no = 10)"
      ],
      "execution_count": 0,
      "outputs": [
        {
          "output_type": "execute_result",
          "data": {
            "text/plain": [
              "['Snowy',\n",
              " 'Snowy',\n",
              " 'Snowy',\n",
              " 'Rainy',\n",
              " 'Rainy',\n",
              " 'Snowy',\n",
              " 'Rainy',\n",
              " 'Rainy',\n",
              " 'Rainy',\n",
              " 'Rainy']"
            ]
          },
          "metadata": {
            "tags": []
          },
          "execution_count": 6
        }
      ]
    }
  ]
}